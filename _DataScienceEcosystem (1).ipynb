{
  "cells": [
    {
      "cell_type": "markdown",
      "id": "adaa181f",
      "metadata": {
        "id": "adaa181f"
      },
      "source": [
        "Science Tools and Ecosystem"
      ]
    },
    {
      "cell_type": "markdown",
      "id": "4f8b95f4",
      "metadata": {
        "id": "4f8b95f4"
      },
      "source": [
        "In this notebook, Data Science Tools and Ecosystem are summarized."
      ]
    },
    {
      "cell_type": "markdown",
      "id": "8e0e4a04",
      "metadata": {
        "id": "8e0e4a04"
      },
      "source": [
        "Some of the popular languages that Data Scientists use are: R, Python , ruby ,SQL, Julia, Scala"
      ]
    },
    {
      "cell_type": "markdown",
      "id": "4ecc21e8",
      "metadata": {
        "id": "4ecc21e8"
      },
      "source": [
        "    Some of the commonly used libraries used by Data Scientists include: Pandas, Numpy, Gspread, Matplotlib, Scikit-learn, TensorFlow, Keras"
      ]
    },
    {
      "cell_type": "markdown",
      "id": "6dbd1170",
      "metadata": {
        "id": "6dbd1170"
      },
      "source": [
        "Data Science Tools,\n",
        "Jupyter Notebook,\n",
        "RStudio,\n",
        "Apache Zeppelin\n"
      ]
    },
    {
      "cell_type": "markdown",
      "id": "c5f5c382",
      "metadata": {
        "id": "c5f5c382"
      },
      "source": [
        "2+3\n",
        "5+4\n",
        "6/7\n",
        "\n",
        "Below are a few examples of evaluating arithmetic expressions in Python."
      ]
    },
    {
      "cell_type": "code",
      "execution_count": null,
      "id": "f4ea0217",
      "metadata": {
        "id": "f4ea0217",
        "outputId": "7ae27591-8403-4a95-a919-ad2e1c418f83"
      },
      "outputs": [
        {
          "data": {
            "text/plain": [
              "17"
            ]
          },
          "execution_count": 6,
          "metadata": {},
          "output_type": "execute_result"
        }
      ],
      "source": [
        "(3*4)+5"
      ]
    },
    {
      "cell_type": "markdown",
      "id": "a31c4344",
      "metadata": {
        "id": "a31c4344"
      },
      "source": [
        "This will convert 200 minutes to hours by dividing by 60"
      ]
    },
    {
      "cell_type": "code",
      "execution_count": null,
      "id": "444bf512",
      "metadata": {
        "id": "444bf512",
        "outputId": "2a129407-331c-4efa-b9e6-9c48a9ce1be2"
      },
      "outputs": [
        {
          "data": {
            "text/plain": [
              "3.3333333333333335"
            ]
          },
          "execution_count": 7,
          "metadata": {},
          "output_type": "execute_result"
        }
      ],
      "source": [
        "200/60"
      ]
    },
    {
      "cell_type": "markdown",
      "id": "9900b7b8",
      "metadata": {
        "id": "9900b7b8"
      },
      "source": [
        "Objectives:\n",
        "\n",
        "1) List popular languages for Data Science\n",
        ", 2)List commonly used libraries in Data Science\n",
        ", 3) Demonstrate arithmetic operations in Python\n",
        ", 4) Convert time units in Python\n",
        ", 5) Summarize Data Science Tools and Ecosystem"
      ]
    },
    {
      "cell_type": "markdown",
      "id": "586c992b",
      "metadata": {
        "id": "586c992b"
      },
      "source": [
        "Author Felipe Rodriguez\n"
      ]
    },
    {
      "cell_type": "code",
      "execution_count": null,
      "id": "dbbd76ea",
      "metadata": {
        "id": "dbbd76ea"
      },
      "outputs": [],
      "source": []
    }
  ],
  "metadata": {
    "kernelspec": {
      "display_name": "Python 3 (ipykernel)",
      "language": "python",
      "name": "python3"
    },
    "language_info": {
      "codemirror_mode": {
        "name": "ipython",
        "version": 3
      },
      "file_extension": ".py",
      "mimetype": "text/x-python",
      "name": "python",
      "nbconvert_exporter": "python",
      "pygments_lexer": "ipython3",
      "version": "3.10.9"
    },
    "colab": {
      "provenance": []
    }
  },
  "nbformat": 4,
  "nbformat_minor": 5
}